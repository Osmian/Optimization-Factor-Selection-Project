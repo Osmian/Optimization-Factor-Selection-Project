{
 "cells": [
  {
   "cell_type": "code",
   "execution_count": 1,
   "metadata": {},
   "outputs": [
    {
     "name": "stdout",
     "output_type": "stream",
     "text": [
      "Academic license - for non-commercial use only\n",
      "0.0011759247814741188\tdebt\n",
      "0.001176379876343023\tdebtusd\n",
      "0.0011763428882005291\tebitdausd\n",
      "0.0011760615672456337\tepsusd\n",
      "0.0011756745194993299\tequityusd\n",
      "0.001176365102263119\tevebit\n",
      "0.0011763909144036763\tgrossmargin\n",
      "0.00047536625334277966\tinvestmentsc\n",
      "0.0011762452646387346\tncfcommon\n",
      "0.0011755777254571168\tncfi\n",
      "0.0003844290660398657\tncfinv\n",
      "0.000977196246159535\tnetincdis\n",
      "0.001176191143616711\tnetincnci\n",
      "0.0003095008904610131\tpayables\n",
      "0.001176399094804994\tpe\n",
      "0.00018843827851626203\tprefdivis\n",
      "0.0011675827528454283\trevenueusd\n",
      "4.1632847106380803e-7\tsharefactor\n",
      "0.0005278349398877406\tsps\n",
      "0.0011754952358894615\ttaxexp\n",
      "20\n",
      "Academic license - for non-commercial use only\n",
      "\n",
      "\n",
      "\n",
      "\n",
      "0.0017851584881661288\t\n",
      "0.003674232877735314\t\n",
      "0.0022548143017249063\t\n",
      "0.0020480713305107098\t\n",
      "0.00011698191037164823\t\n",
      "0.0010645910523629798\t\n",
      "0.005740175467731956\t\n",
      "0.004745915100783196\t\n",
      "0.000745539099854532\t\n",
      "0.0023025906519179833\t\n",
      "1.6288406720170137e-5\t\n",
      "0.0007870906865632969\t\n",
      "0.005478266307146211\t\n",
      "0.0001671939135310104\t\n",
      "14"
     ]
    }
   ],
   "source": [
    "using JuMP, Gurobi\n",
    "\n",
    "lambda = 0.01\n",
    "mu = 0.00001\n",
    "\n",
    "rets = readcsv(\"./rets.csv\")\n",
    "rets = rets[2:length(rets[:,1]), 2]\n",
    "\n",
    "data = readcsv(\"./full_norm_pct.csv\")\n",
    "dates = data[2:length(data[:,1]), 1] #extract date column\n",
    "data = data[:, 2:length(data[1,:])]\n",
    "cols = data[1,:] #extract column titles\n",
    "data = data[2:length(data[:,1]),:] #remove column titles\n",
    "\n",
    "data = convert(Array{Float64},data)\n",
    "rets = convert(Array{Float64},rets)\n",
    "\n",
    "num_factors = length(data[1,:])\n",
    "num_dates = length(dates)\n",
    "\n",
    "m = Model(solver = GurobiSolver(OutputFlag = 0))\n",
    "\n",
    "@variable(m, b[1:num_factors])\n",
    "@variable(m, yt[1:num_dates])\n",
    "@variable(m, t[1:num_factors])\n",
    "@variable(m, maxt)\n",
    "@constraint(m, [i in 1:num_dates], yt[i] == dot(b, data[i, :]))\n",
    "@constraint(m, t .>= b)\n",
    "@constraint(m, t .>= -b)\n",
    "@constraint(m, [i in 1:num_factors], maxt >= t[i])\n",
    "@objective(m, Min, sum( (rets - yt).^2 ) + lambda * maxt + mu * sum(t)) #LASSO with L-Infinite Regularization\n",
    "# @objective(m, Min, sum( (rets - yt).^2 ) + mu * maxt) #L-Infinite Regularization\n",
    "# @objective(m, Min, sum( (rets - yt).^2 ) + lambda * sum(t)) #LASSO\n",
    "# @objective(m, Min, sum( (rets - yt).^2 ) + lambda * sum(b.^2))\n",
    "# @objective(m, Min, sum( (rets - yt).^2 ))\n",
    "\n",
    "solve(m)\n",
    "\n",
    "selection = []\n",
    "\n",
    "bs = getvalue(b)\n",
    "count = 0\n",
    "for i in 1:length(bs)\n",
    "    if bs[i] > 0.0000001\n",
    "        print(bs[i], \"\\t\", cols[i],\"\\n\")\n",
    "        count += 1\n",
    "        push!(selection, i)\n",
    "    end\n",
    "end\n",
    "print(count,\"\\n\")\n",
    "\n",
    "sel_data = data[:, selection]\n",
    "num_factors = length(sel_data[1,:])\n",
    "\n",
    "m2 = Model(solver = GurobiSolver(OutputFlag = 0))\n",
    "\n",
    "@variable(m2, b2[1:num_factors])\n",
    "@variable(m2, yt2[1:num_dates])\n",
    "@constraint(m2, [i in 1:num_dates], yt2[i] == dot(b2, sel_data[i, :]))\n",
    "@objective(m2, Min, sum( (rets - yt2).^2 ) + lambda * sum(b2.^2))\n",
    "\n",
    "solve(m2)\n",
    "\n",
    "print(\"\\n\\n\\n\\n\")\n",
    "bs2 = getvalue(b2)\n",
    "count = 0\n",
    "for i in 1:length(bs2)\n",
    "    if bs2[i] > 0.0000001\n",
    "        print(bs2[i], \"\\t\\n\")\n",
    "        count += 1\n",
    "    end\n",
    "end\n",
    "print(count)"
   ]
  },
  {
   "cell_type": "code",
   "execution_count": 2,
   "metadata": {},
   "outputs": [
    {
     "name": "stdout",
     "output_type": "stream",
     "text": [
      "0.0011759247814741188\tdebt\n",
      "0.001176379876343023\tdebtusd\n",
      "0.0011763428882005291\tebitdausd\n",
      "0.0011760615672456337\tepsusd\n",
      "0.0011756745194993299\tequityusd\n",
      "0.001176365102263119\tevebit\n",
      "0.0011763909144036763\tgrossmargin\n",
      "0.00047536625334277966\tinvestmentsc\n",
      "0.0011762452646387346\tncfcommon\n",
      "0.0011755777254571168\tncfi\n",
      "0.0003844290660398657\tncfinv\n",
      "0.000977196246159535\tnetincdis\n",
      "0.001176191143616711\tnetincnci\n",
      "0.0003095008904610131\tpayables\n",
      "0.001176399094804994\tpe\n",
      "0.00018843827851626203\tprefdivis\n",
      "0.0011675827528454283\trevenueusd\n",
      "4.1632847106380803e-7\tsharefactor\n",
      "0.0005278349398877406\tsps\n",
      "0.0011754952358894615\ttaxexp\n",
      "20"
     ]
    }
   ],
   "source": [
    "bs = getvalue(b)\n",
    "count = 0\n",
    "for i in 1:length(bs)\n",
    "    if bs[i] > 0.0000001\n",
    "        print(bs[i], \"\\t\", cols[i],\"\\n\")\n",
    "        count += 1\n",
    "    end\n",
    "end\n",
    "print(count)"
   ]
  },
  {
   "cell_type": "code",
   "execution_count": 3,
   "metadata": {},
   "outputs": [
    {
     "data": {
      "text/plain": [
       "7×20 Array{Float64,2}:\n",
       " -0.00103938   4.06405    0.156267    …  -1.14286  -4.03807    2.05337  \n",
       "  0.30437      6.46051    0.00650794      0.0       0.245311   0.498002 \n",
       " -0.634001    -0.279962  -3.18678         0.0      -1.1883    -2.03745  \n",
       " -2.86162     -0.494445  -1.13603         0.0       2.1999     0.89586  \n",
       " -0.676859    -2.1649    -1.48907         0.0       1.08407   -0.244727 \n",
       "  3.36258      1.34137   -0.886255    …   0.0      -0.399574  -1.8382   \n",
       "  0.0807311   -0.166374  47.4322          0.0      -2.67365    0.0910096"
      ]
     },
     "execution_count": 3,
     "metadata": {},
     "output_type": "execute_result"
    }
   ],
   "source": [
    "sel_data"
   ]
  },
  {
   "cell_type": "code",
   "execution_count": 4,
   "metadata": {},
   "outputs": [
    {
     "data": {
      "text/plain": [
       "20"
      ]
     },
     "execution_count": 4,
     "metadata": {},
     "output_type": "execute_result"
    }
   ],
   "source": [
    "num_factors"
   ]
  },
  {
   "cell_type": "code",
   "execution_count": 232,
   "metadata": {},
   "outputs": [
    {
     "data": {
      "text/plain": [
       "0.020081852971495825"
      ]
     },
     "execution_count": 232,
     "metadata": {},
     "output_type": "execute_result"
    }
   ],
   "source": [
    "getobjectivevalue(m)"
   ]
  },
  {
   "cell_type": "code",
   "execution_count": 268,
   "metadata": {},
   "outputs": [
    {
     "data": {
      "text/plain": [
       "7×3 Array{Float64,2}:\n",
       "  0.0434216   0.106106   -0.716398\n",
       " -0.673924   -0.2201      4.23729 \n",
       " -2.1544     -0.597726   -0.476165\n",
       "  1.75225    -1.36557     0.574577\n",
       " -0.70383     6.28081    -4.20583 \n",
       "  0.141441   -0.0405702  -0.926255\n",
       " -0.386225    0.556266    0.91608 "
      ]
     },
     "execution_count": 268,
     "metadata": {},
     "output_type": "execute_result"
    }
   ],
   "source": [
    "data[:,[1,20,37]]"
   ]
  },
  {
   "cell_type": "code",
   "execution_count": null,
   "metadata": {},
   "outputs": [],
   "source": []
  }
 ],
 "metadata": {
  "kernelspec": {
   "display_name": "Julia 0.6.4",
   "language": "julia",
   "name": "julia-0.6"
  },
  "language_info": {
   "file_extension": ".jl",
   "mimetype": "application/julia",
   "name": "julia",
   "version": "0.6.4"
  }
 },
 "nbformat": 4,
 "nbformat_minor": 2
}
