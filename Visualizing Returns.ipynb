{
 "cells": [
  {
   "cell_type": "code",
   "execution_count": 42,
   "metadata": {},
   "outputs": [
    {
     "name": "stdout",
     "output_type": "stream",
     "text": [
      "6.423005847264067\n",
      "-5.868550526029895\n",
      "-0.0023753655087416577\n"
     ]
    },
    {
     "name": "stderr",
     "output_type": "stream",
     "text": [
      "/Library/Frameworks/Python.framework/Versions/3.6/lib/python3.6/site-packages/scipy/stats/stats.py:1713: FutureWarning: Using a non-tuple sequence for multidimensional indexing is deprecated; use `arr[tuple(seq)]` instead of `arr[seq]`. In the future this will be interpreted as an array index, `arr[np.array(seq)]`, which will result either in an error or a different result.\n",
      "  return np.add.reduce(sorted[indexer] * weights, axis=axis) / sumval\n"
     ]
    },
    {
     "data": {
      "text/plain": [
       "<matplotlib.axes._subplots.AxesSubplot at 0x12b000908>"
      ]
     },
     "execution_count": 42,
     "metadata": {},
     "output_type": "execute_result"
    },
    {
     "data": {
      "image/png": "[encoded data removed]",
      "text/plain": [
       "<Figure size 432x288 with 1 Axes>"
      ]
     },
     "metadata": {
      "needs_background": "light"
     },
     "output_type": "display_data"
    }
   ],
   "source": [
    "# GENERATING THE DATA FOR CSV FILE\n",
    "# import Ma\n",
    "import numpy as np\n",
    "from random import random\n",
    "import csv\n",
    "import seaborn as sns\n",
    "import math\n",
    "import pandas as pd\n",
    "# Generates a list containing n-number of factors\n",
    "def populate_factors(n):\n",
    "    s = 'Factor '\n",
    "    f = [s+str(i) for i in range(1,n+1)]\n",
    "    return f\n",
    "\n",
    "# Randomly generates a list of sigma values (std deviations) corresponding to the number of factors between [0.1,0.3] \n",
    "def get_std_devs(factors):\n",
    "    std_devs = []\n",
    "    for i in factors:\n",
    "        # Sampling from adding a normal and a uniform distribution to get the standard deviations for each factor\n",
    "        v = np.random.normal(0,.05,1) + np.random.uniform(0.1,0.25,1)\n",
    "        std_devs.append(v)\n",
    "    return std_devs\n",
    "\n",
    "\n",
    "# Samples from a normal distribution n-times to get the pct change for n-number of data points using the sigma values generated\n",
    "def get_pct_changes(n,std_devs):\n",
    "    p = []\n",
    "    for dev in std_devs:\n",
    "        # s is a list, so pct changes is a list of lists\n",
    "        s = list(np.random.normal(0,dev,n))\n",
    "        p.append(s)\n",
    "    return p\n",
    "\n",
    "\n",
    "# Calculates the returns on index based on time-units\n",
    "def get_returns(pct_changes,numDataPoints):\n",
    "    rets = []\n",
    "\n",
    "    num_returns = numDataPoints\n",
    "    i = 0\n",
    "    tmp = 0\n",
    "    factor_number = 0;\n",
    "    while(i!=num_returns):\n",
    "        summing = 0\n",
    "        factor_number = 0\n",
    "        for factor_change in pct_changes:\n",
    "            factor_number+=1\n",
    "#             tmp = \n",
    "#             print(fact)\n",
    "            # MUST FIGURE OUT CORRECT RANGES FOR THE WEIGHTS AND THEIR CORRESPONDING FACTORS\n",
    "#             tmp = math.log10(i**100)\n",
    "            tmp = max( (math.log10(2.5*factor_number) - math.log10(125)+1),0 )\n",
    "            w = np.random.uniform(0.1*tmp,1.4*tmp)\n",
    "            summing+=w*factor_change[i]\n",
    "#         print(loc)\n",
    "        rets.append(summing)\n",
    "        i+=1\n",
    "#         print(i)\n",
    "    return rets\n",
    "\n",
    "\n",
    "\n",
    "# def write_csv():\n",
    "#     myData = [factors,pct_changes,returns]\n",
    "#     myFile = open('testingScript.csv', 'w')\n",
    "#     with myFile:\n",
    "#         writer = csv.writer(myFile)\n",
    "#         writer.writerows(myData)\n",
    "\n",
    "\n",
    "numFactors=100\n",
    "numDataPoints = 10000\n",
    "\n",
    "\n",
    "factors = populate_factors(numFactors)\n",
    "std_devs = get_std_devs(factors)\n",
    "pct_changes = get_pct_changes(numDataPoints,std_devs)\n",
    "returns = get_returns(pct_changes,numDataPoints)\n",
    "\n",
    "\n",
    "\n",
    "\n",
    "print(max(returns))\n",
    "print(min(returns))\n",
    "print(sum(returns)/len(returns))\n",
    "sns.distplot(returns)\n",
    "# write_csv()\n",
    "\n"
   ]
  },
  {
   "cell_type": "code",
   "execution_count": 43,
   "metadata": {},
   "outputs": [],
   "source": [
    "df = pd.DataFrame(pct_changes).transpose()\n",
    "df.to_csv(\"./percent_changes.csv\")\n",
    "# df = pd.DataFrame.to_csv(\"./pct_changes.csv\")\n",
    "# df = pd.DataFrame(list(zip(pct_changes, returns)))\n",
    "# print(df)\n",
    "# df = df.transpose()\n",
    "# print(df)\n",
    "# # print(df.head)"
   ]
  },
  {
   "cell_type": "code",
   "execution_count": 44,
   "metadata": {},
   "outputs": [],
   "source": [
    "df2 = pd.DataFrame(returns)\n",
    "df2.to_csv(\"./returns.csv\")"
   ]
  },
  {
   "cell_type": "code",
   "execution_count": null,
   "metadata": {},
   "outputs": [],
   "source": []
  },
  {
   "cell_type": "code",
   "execution_count": null,
   "metadata": {},
   "outputs": [],
   "source": []
  }
 ],
 "metadata": {
  "kernelspec": {
   "display_name": "Python 3",
   "language": "python",
   "name": "python3"
  },
  "language_info": {
   "codemirror_mode": {
    "name": "ipython",
    "version": 3
   },
   "file_extension": ".py",
   "mimetype": "text/x-python",
   "name": "python",
   "nbconvert_exporter": "python",
   "pygments_lexer": "ipython3",
   "version": "3.6.5"
  }
 },
 "nbformat": 4,
 "nbformat_minor": 2
}
